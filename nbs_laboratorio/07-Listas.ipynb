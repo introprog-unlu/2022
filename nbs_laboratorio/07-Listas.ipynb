{
  "nbformat": 4,
  "nbformat_minor": 0,
  "metadata": {
    "colab": {
      "name": "07-Listas",
      "provenance": [],
      "include_colab_link": true
    },
    "kernelspec": {
      "name": "python3",
      "display_name": "Python 3"
    },
    "language_info": {
      "name": "python"
    }
  },
  "cells": [
    {
      "cell_type": "markdown",
      "metadata": {
        "id": "view-in-github",
        "colab_type": "text"
      },
      "source": [
        "<a href=\"https://colab.research.google.com/github/introprog-unlu/2022/blob/main/nbs_laboratorio/07-Listas.ipynb\" target=\"_parent\"><img src=\"https://colab.research.google.com/assets/colab-badge.svg\" alt=\"Open In Colab\"/></a>"
      ]
    },
    {
      "cell_type": "markdown",
      "source": [
        "# Listas"
      ],
      "metadata": {
        "id": "dIaGzKynXbXb"
      }
    },
    {
      "cell_type": "markdown",
      "source": [
        "## Formas de declarar una variable de tipo lista"
      ],
      "metadata": {
        "id": "iFxnfukpnBwl"
      }
    },
    {
      "cell_type": "code",
      "execution_count": null,
      "metadata": {
        "id": "y6BlP4SKXHlZ",
        "colab": {
          "base_uri": "https://localhost:8080/"
        },
        "outputId": "63aaa31d-90d8-40af-d53c-1d1c5b0c55d3"
      },
      "outputs": [
        {
          "output_type": "stream",
          "name": "stdout",
          "text": [
            "[]\n",
            "[]\n"
          ]
        }
      ],
      "source": [
        "# Lista vacía\n",
        "a = []\n",
        "b = list()\n",
        "\n",
        "print(a)\n",
        "print(b)"
      ]
    },
    {
      "cell_type": "code",
      "source": [
        "# Lista homogénea: todos los elementos de la lista son del mismo tipo\n",
        "paises = [\"Argentina\", \"Brazil\", \"España\", \"Uruguay\"]\n",
        "numeros = [1, 2, 3, 4] \n",
        "\n",
        "print(paises)\n",
        "print(numeros)"
      ],
      "metadata": {
        "colab": {
          "base_uri": "https://localhost:8080/"
        },
        "id": "FVYbNbsCnH8f",
        "outputId": "9c52f7fe-db17-466a-cc84-a66de4beebc6"
      },
      "execution_count": null,
      "outputs": [
        {
          "output_type": "stream",
          "name": "stdout",
          "text": [
            "['Argentina', 'Brazil', 'España', 'Uruguay']\n",
            "[1, 2, 3, 4]\n"
          ]
        }
      ]
    },
    {
      "cell_type": "code",
      "source": [
        "# Lista heterogénea: los elementos pueden ser de cualquier tipo\n",
        "lista_heterogenea = [\"a\", 123, True, \"b\", ]\n",
        "\n",
        "print(lista_heterogenea)"
      ],
      "metadata": {
        "colab": {
          "base_uri": "https://localhost:8080/"
        },
        "id": "MO3WFk61nlGs",
        "outputId": "381ec1a0-030c-41ba-89b0-977291befce5"
      },
      "execution_count": null,
      "outputs": [
        {
          "output_type": "stream",
          "name": "stdout",
          "text": [
            "['a', 123, True, 'b']\n"
          ]
        }
      ]
    },
    {
      "cell_type": "markdown",
      "source": [
        "## Operaciones Básicas"
      ],
      "metadata": {
        "id": "8jG3hOiZpUqX"
      }
    },
    {
      "cell_type": "code",
      "source": [
        "# Longitud de una lista: Usamos la función len() para obtener la cantidad de elementos de la lista\n",
        "paises = [\"Argentina\", \"Brazil\", \"España\", \"Uruguay\"]\n",
        "\n",
        "longitud = len(paises)\n",
        "\n",
        "print(longitud)"
      ],
      "metadata": {
        "id": "qPEIOTtzpXlh",
        "colab": {
          "base_uri": "https://localhost:8080/"
        },
        "outputId": "789de4ec-7699-4963-f738-835934e7c0ef"
      },
      "execution_count": null,
      "outputs": [
        {
          "output_type": "stream",
          "name": "stdout",
          "text": [
            "4\n"
          ]
        }
      ]
    },
    {
      "cell_type": "code",
      "source": [
        "# Acceder a los elementos de la lista a través del índice\n",
        "# El primer valor del índice (posición) de una lista en Python comienza en 0.\n",
        "paises = [\"Argentina\", \"Brazil\", \"España\", \"Uruguay\"]\n",
        "\n",
        "print(paises[0])\n",
        "print(paises[1])\n",
        "print(paises[2])\n",
        "print(paises[3])"
      ],
      "metadata": {
        "colab": {
          "base_uri": "https://localhost:8080/"
        },
        "id": "gLcZtPntqJ77",
        "outputId": "59182f21-7cc3-4842-daa0-2e9a2bbd2745"
      },
      "execution_count": null,
      "outputs": [
        {
          "output_type": "stream",
          "name": "stdout",
          "text": [
            "Argentina\n",
            "Brazil\n",
            "España\n",
            "Uruguay\n"
          ]
        }
      ]
    },
    {
      "cell_type": "code",
      "source": [
        "# Obtener una sublista de una lista\n",
        "paises = [\"Argentina\", \"Brazil\", \"España\", \"Uruguay\"]\n",
        "\n",
        "# Indicamos la posición de incio y fin para obtener una sublista con los elementos cuyos índices están en el rango [inicio, fin)\n",
        "paises[1:3] "
      ],
      "metadata": {
        "colab": {
          "base_uri": "https://localhost:8080/"
        },
        "id": "nxA8grL3reYl",
        "outputId": "68ac926e-6587-4c66-99be-6af321796228"
      },
      "execution_count": null,
      "outputs": [
        {
          "output_type": "execute_result",
          "data": {
            "text/plain": [
              "['Brazil', 'España']"
            ]
          },
          "metadata": {},
          "execution_count": 1
        }
      ]
    },
    {
      "cell_type": "code",
      "source": [
        "# Otras formas de obtener sublistas\n",
        "\n",
        "print(paises[0:3]) # Es lo mismo usar [0:3] o [:3]\n",
        "print(paises[:3])\n",
        "\n",
        "print(paises[2:])  # Obtiene los elementos desde la posición 2 hasta el final de la lista\n",
        "\n",
        "print(paises[0:-2]) # Si usamos valores negativos el índice comienza al final de la lista con valor -1\n",
        "print(paises[-4:-2]) # Retorna lo mismo que la instrucción anterior"
      ],
      "metadata": {
        "id": "WuTS2dW6-fI-",
        "colab": {
          "base_uri": "https://localhost:8080/"
        },
        "outputId": "5ee8d1c2-d395-4263-b0ec-89441a0ed9ae"
      },
      "execution_count": null,
      "outputs": [
        {
          "output_type": "stream",
          "name": "stdout",
          "text": [
            "['Argentina', 'Brazil', 'España']\n",
            "['Argentina', 'Brazil', 'España']\n",
            "['España', 'Uruguay']\n",
            "['Argentina', 'Brazil']\n",
            "['Argentina', 'Brazil']\n"
          ]
        }
      ]
    },
    {
      "cell_type": "markdown",
      "source": [
        "## Recorrer los elementos de una lista"
      ],
      "metadata": {
        "id": "BYrJnNNPpggO"
      }
    },
    {
      "cell_type": "code",
      "source": [
        "# A partir de los elementos\n",
        "for elemento in paises:\n",
        "  print(elemento)"
      ],
      "metadata": {
        "colab": {
          "base_uri": "https://localhost:8080/"
        },
        "id": "2x_5YdvDpnw3",
        "outputId": "c23fa657-24a5-4641-f028-5ae3af01780f"
      },
      "execution_count": null,
      "outputs": [
        {
          "output_type": "stream",
          "name": "stdout",
          "text": [
            "Argentina\n",
            "Brazil\n",
            "España\n",
            "Uruguay\n"
          ]
        }
      ]
    },
    {
      "cell_type": "code",
      "source": [
        "# A partir de un índice\n",
        "for i in range(len(paises)):\n",
        "  print(paises[i])"
      ],
      "metadata": {
        "colab": {
          "base_uri": "https://localhost:8080/"
        },
        "id": "Hw0lNr__p-Hg",
        "outputId": "b1c35279-9d52-487e-9faa-d352ea58370a"
      },
      "execution_count": null,
      "outputs": [
        {
          "output_type": "stream",
          "name": "stdout",
          "text": [
            "Argentina\n",
            "Brazil\n",
            "España\n",
            "Uruguay\n"
          ]
        }
      ]
    },
    {
      "cell_type": "code",
      "source": [
        "# A partir de la función enumerate\n",
        "for i, e in enumerate(paises):\n",
        "  print(f'Posición {i}: {e}.')"
      ],
      "metadata": {
        "colab": {
          "base_uri": "https://localhost:8080/"
        },
        "id": "n9le6PA_qMMG",
        "outputId": "7cbcb375-a5c1-40be-d5fd-391cd2d08285"
      },
      "execution_count": null,
      "outputs": [
        {
          "output_type": "stream",
          "name": "stdout",
          "text": [
            "Posición 0: Argentina.\n",
            "Posición 1: Brazil.\n",
            "Posición 2: España.\n",
            "Posición 3: Uruguay.\n"
          ]
        }
      ]
    },
    {
      "cell_type": "markdown",
      "source": [
        "## Mutación de listas"
      ],
      "metadata": {
        "id": "gYy6qtNaEixc"
      }
    },
    {
      "cell_type": "code",
      "source": [
        "# Cambiar el valor en una posición determinada\n",
        "paises = [\"Argentina\", \"Brazil\", \"España\", \"Uruguay\"]\n",
        "paises[1] = \"EEUU\"\n",
        "paises"
      ],
      "metadata": {
        "colab": {
          "base_uri": "https://localhost:8080/"
        },
        "id": "9LUgIslgEkV2",
        "outputId": "06045038-3e40-435a-9b8f-4682370f4662"
      },
      "execution_count": null,
      "outputs": [
        {
          "output_type": "execute_result",
          "data": {
            "text/plain": [
              "['Argentina', 'EEUU', 'España', 'Uruguay']"
            ]
          },
          "metadata": {},
          "execution_count": 8
        }
      ]
    },
    {
      "cell_type": "code",
      "source": [
        "# Agregar valores al final de la lista\n",
        "paises = [\"Argentina\", \"Brazil\", \"España\", \"Uruguay\"]\n",
        "paises.append(\"EEUU\")\n",
        "paises"
      ],
      "metadata": {
        "colab": {
          "base_uri": "https://localhost:8080/"
        },
        "id": "lG_BYHuSFE_9",
        "outputId": "461261ed-bd65-496a-b404-441c28f7ecfc"
      },
      "execution_count": null,
      "outputs": [
        {
          "output_type": "execute_result",
          "data": {
            "text/plain": [
              "['Argentina', 'Brazil', 'España', 'Uruguay', 'EEUU']"
            ]
          },
          "metadata": {},
          "execution_count": 9
        }
      ]
    },
    {
      "cell_type": "code",
      "source": [
        "# Insertar un valor en una posición determinada\n",
        "paises = [\"Argentina\", \"Brazil\", \"España\", \"Uruguay\"]\n",
        "paises.insert(2, \"EEUU\")\n",
        "paises"
      ],
      "metadata": {
        "colab": {
          "base_uri": "https://localhost:8080/"
        },
        "id": "uWw2rrPSFk0W",
        "outputId": "2d92d387-7f10-4ad3-ae47-52f14236c299"
      },
      "execution_count": null,
      "outputs": [
        {
          "output_type": "execute_result",
          "data": {
            "text/plain": [
              "['Argentina', 'Brazil', 'EEUU', 'España', 'Uruguay']"
            ]
          },
          "metadata": {},
          "execution_count": 10
        }
      ]
    },
    {
      "cell_type": "code",
      "source": [
        "# Remover un determinado valor\n",
        "paises = [\"Argentina\", \"Brazil\", \"España\", \"Uruguay\"]\n",
        "paises.remove('Brazil')\n",
        "paises"
      ],
      "metadata": {
        "colab": {
          "base_uri": "https://localhost:8080/"
        },
        "id": "Kutzih2OcqVU",
        "outputId": "ec4ee7ba-4d98-41e4-c0ef-7611c99b243c"
      },
      "execution_count": null,
      "outputs": [
        {
          "output_type": "execute_result",
          "data": {
            "text/plain": [
              "['Argentina', 'España', 'Uruguay']"
            ]
          },
          "metadata": {},
          "execution_count": 11
        }
      ]
    },
    {
      "cell_type": "code",
      "source": [
        "# Remover una determinada posición. \n",
        "paises = [\"Argentina\", \"Brazil\", \"España\", \"Uruguay\"]\n",
        "item_eliminado = paises.pop(1) # La función pop elimina de la lista la posición indicada y retorna el valor eliminado\n",
        "print(paises)\n",
        "print(item_eliminado)"
      ],
      "metadata": {
        "colab": {
          "base_uri": "https://localhost:8080/"
        },
        "id": "w2jhZ7Hvd9IV",
        "outputId": "e142ec30-7446-4311-f49f-4bea6049d6a4"
      },
      "execution_count": null,
      "outputs": [
        {
          "output_type": "stream",
          "name": "stdout",
          "text": [
            "['Argentina', 'España', 'Uruguay']\n",
            "Brazil\n"
          ]
        }
      ]
    },
    {
      "cell_type": "code",
      "source": [
        "# Si no se le pasan parámetros a pop se elimina el ultimo valor\n",
        "paises = [\"Argentina\", \"Brazil\", \"España\", \"Uruguay\"]\n",
        "item_eliminado = paises.pop() \n",
        "print(paises)\n",
        "print(item_eliminado)"
      ],
      "metadata": {
        "colab": {
          "base_uri": "https://localhost:8080/"
        },
        "id": "j_DAeKsBff4-",
        "outputId": "f42d0933-34d6-4891-faa4-671364a92ceb"
      },
      "execution_count": null,
      "outputs": [
        {
          "output_type": "stream",
          "name": "stdout",
          "text": [
            "['Argentina', 'Brazil', 'España']\n",
            "Uruguay\n"
          ]
        }
      ]
    }
  ]
}